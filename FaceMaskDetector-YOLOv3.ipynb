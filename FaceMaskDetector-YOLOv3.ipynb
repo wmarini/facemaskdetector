{
 "cells": [
  {
   "cell_type": "markdown",
   "metadata": {
    "colab_type": "text",
    "id": "MQlb3PZq8O5I"
   },
   "source": [
    "# Face Mask Detector\n",
    "\n",
    "[![Open In Colab](https://colab.research.google.com/assets/colab-badge.svg)](FaceMaskDetector-YOLOv3.ipynb)\n",
    "\n",
    "Using YOLO version 3"
   ]
  },
  {
   "cell_type": "code",
   "execution_count": 1,
   "metadata": {
    "colab": {
     "base_uri": "https://localhost:8080/",
     "height": 34
    },
    "colab_type": "code",
    "id": "o58CTS5R8O5K",
    "outputId": "c0931d98-0b51-4ce7-b6f0-8f297ae56f9d"
   },
   "outputs": [
    {
     "name": "stdout",
     "output_type": "stream",
     "text": [
      "Face Mask Detector\n"
     ]
    }
   ],
   "source": [
    "print('Face Mask Detector')"
   ]
  },
  {
   "cell_type": "code",
   "execution_count": 2,
   "metadata": {
    "colab": {
     "base_uri": "https://localhost:8080/",
     "height": 34
    },
    "colab_type": "code",
    "id": "hUY_cbxT8O5S",
    "outputId": "bf368083-9402-4805-8d34-bf00a5151711"
   },
   "outputs": [
    {
     "name": "stdout",
     "output_type": "stream",
     "text": [
      "Testing if I can download to GITHUB\n"
     ]
    }
   ],
   "source": [
    "print('Testing if I can download to GITHUB')"
   ]
  }
 ],
 "metadata": {
  "colab": {
   "name": "FaceMaskDetector-YOLOv3.ipynb",
   "provenance": []
  },
  "kernelspec": {
   "display_name": "Python 3",
   "language": "python",
   "name": "python3"
  },
  "language_info": {
   "codemirror_mode": {
    "name": "ipython",
    "version": 3
   },
   "file_extension": ".py",
   "mimetype": "text/x-python",
   "name": "python",
   "nbconvert_exporter": "python",
   "pygments_lexer": "ipython3",
   "version": "3.8.1"
  }
 },
 "nbformat": 4,
 "nbformat_minor": 1
}
